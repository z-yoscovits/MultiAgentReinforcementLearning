{
 "cells": [
  {
   "cell_type": "markdown",
   "metadata": {},
   "source": [
    "# Collaboration and Competition\n",
    "\n",
    "---\n",
    "\n",
    "In this notebook, you will learn how to use the Unity ML-Agents environment to train a Multiple Reinforcement Learning agents\n",
    "### 1. Start the Environment\n",
    "\n",
    "Start by making sure the necessary packages are installed and Import them"
   ]
  },
  {
   "cell_type": "code",
   "execution_count": null,
   "metadata": {},
   "outputs": [],
   "source": [
    "!pip install unityagents\n",
    "!pip install mlagents\n",
    "!pip install gym\n",
    "!pip install Pillow\n",
    "!pip install h5py"
   ]
  },
  {
   "cell_type": "code",
   "execution_count": null,
   "metadata": {},
   "outputs": [],
   "source": [
    "%conda install -c pytorch pytorch torchvision"
   ]
  },
  {
   "cell_type": "code",
   "execution_count": 1,
   "metadata": {},
   "outputs": [],
   "source": [
    "from unityagents import UnityEnvironment\n",
    "import numpy as np\n",
    "\n",
    "from collections import deque\n",
    "import torch\n",
    "import matplotlib.pyplot as plt\n",
    "from maddpg_agents import MultiAgent"
   ]
  },
  {
   "cell_type": "markdown",
   "metadata": {},
   "source": [
    "Next, we will start the environment!  **_Before running the code cell below_**, change the `file_name` parameter to match the location of the Unity environment that you downloaded.\n",
    "\n",
    "- **Mac**: `\"path/to/Tennis.app\"`\n",
    "- **Windows** (x86): `\"path/to/Tennis_Windows_x86/Tennis.exe\"`\n",
    "- **Windows** (x86_64): `\"path/to/Tennis_Windows_x86_64/Tennis.exe\"`\n",
    "- **Linux** (x86): `\"path/to/Tennis_Linux/Tennis.x86\"`\n",
    "- **Linux** (x86_64): `\"path/to/Tennis_Linux/Tennis.x86_64\"`\n",
    "- **Linux** (x86, headless): `\"path/to/Tennis_Linux_NoVis/Tennis.x86\"`\n",
    "- **Linux** (x86_64, headless): `\"path/to/Tennis_Linux_NoVis/Tennis.x86_64\"`\n",
    "\n",
    "For instance, if you are using a Mac, then you downloaded `Tennis.app`.  If this file is in the same folder as the notebook, then the line below should appear as follows:\n",
    "```\n",
    "env = UnityEnvironment(file_name=\"Tennis.app\")\n",
    "```"
   ]
  },
  {
   "cell_type": "code",
   "execution_count": 2,
   "metadata": {},
   "outputs": [
    {
     "name": "stderr",
     "output_type": "stream",
     "text": [
      "INFO:unityagents:\n",
      "'Academy' started successfully!\n",
      "Unity Academy name: Academy\n",
      "        Number of Brains: 1\n",
      "        Number of External Brains : 1\n",
      "        Lesson number : 0\n",
      "        Reset Parameters :\n",
      "\t\t\n",
      "Unity brain name: TennisBrain\n",
      "        Number of Visual Observations (per agent): 0\n",
      "        Vector Observation space type: continuous\n",
      "        Vector Observation space size (per agent): 8\n",
      "        Number of stacked Vector Observation: 3\n",
      "        Vector Action space type: continuous\n",
      "        Vector Action space size (per agent): 2\n",
      "        Vector Action descriptions: , \n"
     ]
    }
   ],
   "source": [
    "env = UnityEnvironment(file_name=\"Tennis_Windows_x86_64/Tennis.exe\")"
   ]
  },
  {
   "cell_type": "markdown",
   "metadata": {},
   "source": [
    "Environments contain **_brains_** which are responsible for deciding the actions of their associated agents. Here we check for the first brain available, and set it as the default brain we will be controlling from Python."
   ]
  },
  {
   "cell_type": "code",
   "execution_count": 3,
   "metadata": {},
   "outputs": [],
   "source": [
    "# get the default brain\n",
    "brain_name = env.brain_names[0]\n",
    "brain = env.brains[brain_name]"
   ]
  },
  {
   "cell_type": "markdown",
   "metadata": {},
   "source": [
    "### 2. Examine the State and Action Spaces\n",
    "\n",
    "In this environment, two agents control rackets to bounce a ball over a net. If an agent hits the ball over the net, it receives a reward of +0.1.  If an agent lets a ball hit the ground or hits the ball out of bounds, it receives a reward of -0.01.  Thus, the goal of each agent is to keep the ball in play.\n",
    "\n",
    "The observation space consists of 8 variables corresponding to the position and velocity of the ball and racket. Two continuous actions are available, corresponding to movement toward (or away from) the net, and jumping. \n",
    "\n",
    "Run the code cell below to print some information about the environment."
   ]
  },
  {
   "cell_type": "code",
   "execution_count": 4,
   "metadata": {},
   "outputs": [
    {
     "name": "stdout",
     "output_type": "stream",
     "text": [
      "Number of agents: 2\n",
      "Size of each action: 2\n",
      "There are 2 agents. Each observes a state with length: 24\n",
      "The state for the first agent looks like: [ 0.          0.          0.          0.          0.          0.\n",
      "  0.          0.          0.          0.          0.          0.\n",
      "  0.          0.          0.          0.         -6.65278625 -1.5\n",
      " -0.          0.          6.83172083  6.         -0.          0.        ]\n"
     ]
    }
   ],
   "source": [
    "# reset the environment\n",
    "env_info = env.reset(train_mode=True)[brain_name]\n",
    "\n",
    "# number of agents \n",
    "num_agents = len(env_info.agents)\n",
    "print('Number of agents:', num_agents)\n",
    "\n",
    "# size of each action\n",
    "action_size = brain.vector_action_space_size\n",
    "print('Size of each action:', action_size)\n",
    "\n",
    "# examine the state space \n",
    "states = env_info.vector_observations\n",
    "state_size = states.shape[1]\n",
    "print('There are {} agents. Each observes a state with length: {}'.format(states.shape[0], state_size))\n",
    "print('The state for the first agent looks like:', states[0])"
   ]
  },
  {
   "cell_type": "markdown",
   "metadata": {},
   "source": [
    "### 3. Take Random Actions in the Environment\n",
    "\n",
    "In the next code cell, you will learn how to use the Python API to control the agents and receive feedback from the environment.\n",
    "\n",
    "Once this cell is executed, you will watch the agents' performance, if they select actions at random with each time step.  A window should pop up that allows you to observe the agents.\n",
    "\n",
    "Of course, as part of the project, you'll have to change the code so that the agents are able to use their experiences to gradually choose better actions when interacting with the environment!"
   ]
  },
  {
   "cell_type": "code",
   "execution_count": 5,
   "metadata": {},
   "outputs": [
    {
     "name": "stdout",
     "output_type": "stream",
     "text": [
      "Score (max over agents) from episode 1: 0.0\n",
      "Score (max over agents) from episode 2: 0.0\n",
      "Score (max over agents) from episode 3: 0.0\n",
      "Score (max over agents) from episode 4: 0.0\n",
      "Score (max over agents) from episode 5: 0.0\n"
     ]
    }
   ],
   "source": [
    "for i in range(1, 6):                                      # play game for 5 episodes\n",
    "    env_info = env.reset(train_mode=False)[brain_name]     # reset the environment    \n",
    "    states = env_info.vector_observations                  # get the current state (for each agent)\n",
    "    scores = np.zeros(num_agents)                          # initialize the score (for each agent)\n",
    "    while True:\n",
    "        actions = np.random.randn(num_agents, action_size) # select an action (for each agent)\n",
    "        actions = np.clip(actions, -1, 1)                  # all actions between -1 and 1\n",
    "        env_info = env.step(actions)[brain_name]           # send all actions to tne environment\n",
    "        next_states = env_info.vector_observations         # get next state (for each agent)\n",
    "        rewards = env_info.rewards                         # get reward (for each agent)\n",
    "        dones = env_info.local_done                        # see if episode finished\n",
    "        scores += env_info.rewards                         # update the score (for each agent)\n",
    "        states = next_states                               # roll over states to next time step\n",
    "        if np.any(dones):                                  # exit loop if episode finished\n",
    "            break\n",
    "    print('Score (max over agents) from episode {}: {}'.format(i, np.max(scores)))"
   ]
  },
  {
   "cell_type": "markdown",
   "metadata": {},
   "source": [
    "When finished, you can close the environment."
   ]
  },
  {
   "cell_type": "code",
   "execution_count": 6,
   "metadata": {},
   "outputs": [],
   "source": [
    "#env.close()"
   ]
  },
  {
   "cell_type": "markdown",
   "metadata": {},
   "source": [
    "### 4. It's Your Turn!\n",
    "\n",
    "Now it's your turn to train your own agent to solve the environment!  When training the environment, set `train_mode=True`, so that the line for resetting the environment looks like the following:\n",
    "```python\n",
    "env_info = env.reset(train_mode=True)[brain_name]\n",
    "```"
   ]
  },
  {
   "cell_type": "code",
   "execution_count": 7,
   "metadata": {},
   "outputs": [],
   "source": [
    "\n",
    "# BUFFER_SIZE = int(1e6)  # replay buffer size\n",
    "# BATCH_SIZE = 256      # minibatch size\n",
    "# GAMMA = 0.95            # discount factor\n",
    "# TAU = 1e-3              # for soft update of target parameters\n",
    "# WEIGHT_DECAY = 0   # L2 weight decay"
   ]
  },
  {
   "cell_type": "code",
   "execution_count": 8,
   "metadata": {},
   "outputs": [],
   "source": [
    "multiagent=MultiAgent(state_size, action_size, num_agents, random_seed=0, update_every=10, learn_n_times=5, noise_scale=0.2, noise_decay=0.9999, lr_actor = 5e-4, lr_critic = 5e-4    )\n",
    "\n"
   ]
  },
  {
   "cell_type": "code",
   "execution_count": 9,
   "metadata": {},
   "outputs": [],
   "source": [
    "def maddpg(episodes=2000, max_t=1000, break_on_complete=False):\n",
    "\n",
    "    solved=False\n",
    "    score_hist = np.array([])\n",
    "    score_deque = deque(maxlen=100)\n",
    "    best_score=0\n",
    "    \n",
    "    \n",
    "    for episode in range(episodes): \n",
    "        # Reset the enviroment\n",
    "        env_info = env.reset(train_mode=True)[brain_name] \n",
    "        states = env_info.vector_observations\n",
    "        scores = np.zeros(num_agents)\n",
    "        \n",
    "    \n",
    "    \n",
    "    \n",
    "        for i in range(max_t):\n",
    "          \n",
    "            # Predict the best action for the current state. \n",
    "            actions = multiagent.act(states, add_noise = True)\n",
    "            \n",
    "            # Action is performed and new state, reward, info are received.\n",
    "            env_info = env.step(actions)[brain_name]           # send all actions to tne environment\n",
    "            next_states = env_info.vector_observations         # get next state (for each agent)\n",
    "            rewards = env_info.rewards                         # get reward (for each agent)\n",
    "            dones = env_info.local_done                        # see if episode finished\n",
    "            scores += rewards                                  # update the score (for each agent)\n",
    "                                   # roll over states to next time step\n",
    "            \n",
    "            # current state, action, reward, new state are stored in the experience replay\n",
    "        \n",
    "            multiagent.step(states, actions, rewards, next_states, dones)\n",
    "            \n",
    "            # roll over new state\n",
    "            states = next_states                               # roll over states to next time step\n",
    "    \n",
    "            if np.any(dones):\n",
    "                break\n",
    "        score_hist = np.append(score_hist, scores)\n",
    "        score_deque.append(np.max(scores))\n",
    "\n",
    "        if (episode + 1) % 20 ==0:\n",
    "            print('\\rEpisode [{}/{}]\\tEpisode Max Score: {:,.2f}\\tRunning Average Score: {:,.5}'.format(episode + 1, episodes,np.max(scores), np.mean(score_deque)))\n",
    "            if np.mean(score_deque) > best_score:\n",
    "                multiagent.checkpoint()\n",
    "                best_score=np.mean(score_deque)\n",
    "                    \n",
    "        if (np.mean(score_deque)>=0.5) and len(score_deque)>=100 and not solved:\n",
    "        \n",
    "            print('\\nEnvironment solved in {:d} episodes!\\tAverage Score: {:.2f}'.format(episode+1, np.mean(score_deque)))\n",
    "            solved=True\n",
    "            if break_on_complete:\n",
    "                break\n",
    "    return score_hist\n"
   ]
  },
  {
   "cell_type": "code",
   "execution_count": 39,
   "metadata": {},
   "outputs": [],
   "source": [
    "\n",
    "def plot_scores(scores, num_agents, show_scatter=True):\n",
    "    max_scores=scores.reshape(-1,num_agents).max(axis=1)\n",
    "    mean_scores=np.convolve(max_scores, np.ones(100), \"valid\")/100\n",
    "    fig = plt.figure()\n",
    "    ax = fig.add_subplot(111)\n",
    "    plt.plot(np.arange(len(max_scores)-len(mean_scores),len(max_scores)), mean_scores, c='red')\n",
    "    plt.ylabel('Score')\n",
    "    plt.xlabel('Episode #')\n",
    "    if show_scatter:\n",
    "        plt.scatter(x=np.repeat(np.arange(len(max_scores)),num_agents), y=scores, alpha=0.5, marker='.')\n",
    "    plt.show()"
   ]
  },
  {
   "cell_type": "code",
   "execution_count": 11,
   "metadata": {},
   "outputs": [
    {
     "name": "stdout",
     "output_type": "stream",
     "text": [
      "Episode [20/2000]\tEpisode Max Score: 0.00\tRunning Average Score: 0.015\n",
      "Episode [40/2000]\tEpisode Max Score: 0.00\tRunning Average Score: 0.03\n",
      "Episode [60/2000]\tEpisode Max Score: 0.00\tRunning Average Score: 0.0365\n",
      "Episode [80/2000]\tEpisode Max Score: 0.00\tRunning Average Score: 0.039\n",
      "Episode [100/2000]\tEpisode Max Score: 0.00\tRunning Average Score: 0.0399\n",
      "Episode [120/2000]\tEpisode Max Score: 0.00\tRunning Average Score: 0.0435\n",
      "Episode [140/2000]\tEpisode Max Score: 0.00\tRunning Average Score: 0.0422\n",
      "Episode [160/2000]\tEpisode Max Score: 0.20\tRunning Average Score: 0.0432\n",
      "Episode [180/2000]\tEpisode Max Score: 0.00\tRunning Average Score: 0.0434\n",
      "Episode [200/2000]\tEpisode Max Score: 0.10\tRunning Average Score: 0.0467\n",
      "Episode [220/2000]\tEpisode Max Score: 0.00\tRunning Average Score: 0.0451\n",
      "Episode [240/2000]\tEpisode Max Score: 0.00\tRunning Average Score: 0.0384\n",
      "Episode [260/2000]\tEpisode Max Score: 0.00\tRunning Average Score: 0.0275\n",
      "Episode [280/2000]\tEpisode Max Score: 0.00\tRunning Average Score: 0.021\n",
      "Episode [300/2000]\tEpisode Max Score: 0.00\tRunning Average Score: 0.009\n",
      "Episode [320/2000]\tEpisode Max Score: 0.00\tRunning Average Score: 0.004\n",
      "Episode [340/2000]\tEpisode Max Score: 0.09\tRunning Average Score: 0.0049\n",
      "Episode [360/2000]\tEpisode Max Score: 0.00\tRunning Average Score: 0.0089\n",
      "Episode [380/2000]\tEpisode Max Score: 0.09\tRunning Average Score: 0.0205\n",
      "Episode [400/2000]\tEpisode Max Score: 0.00\tRunning Average Score: 0.0294\n",
      "Episode [420/2000]\tEpisode Max Score: 0.00\tRunning Average Score: 0.0391\n",
      "Episode [440/2000]\tEpisode Max Score: 0.10\tRunning Average Score: 0.0489\n",
      "Episode [460/2000]\tEpisode Max Score: 0.10\tRunning Average Score: 0.0595\n",
      "Episode [480/2000]\tEpisode Max Score: 0.00\tRunning Average Score: 0.0546\n",
      "Episode [500/2000]\tEpisode Max Score: 0.09\tRunning Average Score: 0.057\n",
      "Episode [520/2000]\tEpisode Max Score: 0.00\tRunning Average Score: 0.0519\n",
      "Episode [540/2000]\tEpisode Max Score: 0.10\tRunning Average Score: 0.0441\n",
      "Episode [560/2000]\tEpisode Max Score: 0.00\tRunning Average Score: 0.0373\n",
      "Episode [580/2000]\tEpisode Max Score: 0.00\tRunning Average Score: 0.0379\n",
      "Episode [600/2000]\tEpisode Max Score: 0.00\tRunning Average Score: 0.0392\n",
      "Episode [620/2000]\tEpisode Max Score: 0.00\tRunning Average Score: 0.0433\n",
      "Episode [640/2000]\tEpisode Max Score: 0.00\tRunning Average Score: 0.051\n",
      "Episode [660/2000]\tEpisode Max Score: 0.10\tRunning Average Score: 0.0591\n",
      "Episode [680/2000]\tEpisode Max Score: 0.09\tRunning Average Score: 0.0656\n",
      "Episode [700/2000]\tEpisode Max Score: 0.00\tRunning Average Score: 0.0649\n",
      "Episode [720/2000]\tEpisode Max Score: 0.10\tRunning Average Score: 0.0701\n",
      "Episode [740/2000]\tEpisode Max Score: 0.00\tRunning Average Score: 0.0715\n",
      "Episode [760/2000]\tEpisode Max Score: 0.10\tRunning Average Score: 0.0716\n",
      "Episode [780/2000]\tEpisode Max Score: 0.10\tRunning Average Score: 0.0628\n",
      "Episode [800/2000]\tEpisode Max Score: 0.09\tRunning Average Score: 0.0657\n",
      "Episode [820/2000]\tEpisode Max Score: 0.10\tRunning Average Score: 0.0657\n",
      "Episode [840/2000]\tEpisode Max Score: 0.10\tRunning Average Score: 0.0706\n",
      "Episode [860/2000]\tEpisode Max Score: 0.10\tRunning Average Score: 0.0754\n",
      "Episode [880/2000]\tEpisode Max Score: 0.09\tRunning Average Score: 0.0871\n",
      "Episode [900/2000]\tEpisode Max Score: 0.10\tRunning Average Score: 0.0922\n",
      "Episode [920/2000]\tEpisode Max Score: 0.10\tRunning Average Score: 0.0982\n",
      "Episode [940/2000]\tEpisode Max Score: 0.10\tRunning Average Score: 0.1003\n",
      "Episode [960/2000]\tEpisode Max Score: 0.10\tRunning Average Score: 0.0964\n",
      "Episode [980/2000]\tEpisode Max Score: 0.20\tRunning Average Score: 0.1026\n",
      "Episode [1000/2000]\tEpisode Max Score: 0.10\tRunning Average Score: 0.1016\n",
      "Episode [1020/2000]\tEpisode Max Score: 0.10\tRunning Average Score: 0.1027\n",
      "Episode [1040/2000]\tEpisode Max Score: 0.10\tRunning Average Score: 0.1037\n",
      "Episode [1060/2000]\tEpisode Max Score: 0.10\tRunning Average Score: 0.1067\n",
      "Episode [1080/2000]\tEpisode Max Score: 0.10\tRunning Average Score: 0.1018\n",
      "Episode [1100/2000]\tEpisode Max Score: 0.20\tRunning Average Score: 0.1058\n",
      "Episode [1120/2000]\tEpisode Max Score: 0.10\tRunning Average Score: 0.1117\n",
      "Episode [1140/2000]\tEpisode Max Score: 0.10\tRunning Average Score: 0.1146\n",
      "Episode [1160/2000]\tEpisode Max Score: 0.30\tRunning Average Score: 0.1197\n",
      "Episode [1180/2000]\tEpisode Max Score: 0.09\tRunning Average Score: 0.1206\n",
      "Episode [1200/2000]\tEpisode Max Score: 0.30\tRunning Average Score: 0.1242\n",
      "Episode [1220/2000]\tEpisode Max Score: 0.20\tRunning Average Score: 0.1253\n",
      "Episode [1240/2000]\tEpisode Max Score: 0.30\tRunning Average Score: 0.1273\n",
      "Episode [1260/2000]\tEpisode Max Score: 0.20\tRunning Average Score: 0.1342\n",
      "Episode [1280/2000]\tEpisode Max Score: 0.20\tRunning Average Score: 0.1543\n",
      "Episode [1300/2000]\tEpisode Max Score: 0.40\tRunning Average Score: 0.1954\n",
      "Episode [1320/2000]\tEpisode Max Score: 1.20\tRunning Average Score: 0.2703\n",
      "Episode [1340/2000]\tEpisode Max Score: 2.00\tRunning Average Score: 0.3204\n",
      "Episode [1360/2000]\tEpisode Max Score: 1.00\tRunning Average Score: 0.4143\n",
      "Episode [1380/2000]\tEpisode Max Score: 0.20\tRunning Average Score: 0.4671\n",
      "\n",
      "Environment solved in 1399 episodes!\tAverage Score: 0.51\n",
      "Episode [1400/2000]\tEpisode Max Score: 0.60\tRunning Average Score: 0.5104\n",
      "Episode [1420/2000]\tEpisode Max Score: 0.10\tRunning Average Score: 0.6083\n",
      "Episode [1440/2000]\tEpisode Max Score: 1.19\tRunning Average Score: 0.677\n",
      "Episode [1460/2000]\tEpisode Max Score: 0.40\tRunning Average Score: 0.868\n",
      "Episode [1480/2000]\tEpisode Max Score: 2.50\tRunning Average Score: 1.0932\n",
      "Episode [1500/2000]\tEpisode Max Score: 0.40\tRunning Average Score: 1.2921\n",
      "Episode [1520/2000]\tEpisode Max Score: 0.89\tRunning Average Score: 1.2992\n",
      "Episode [1540/2000]\tEpisode Max Score: 0.10\tRunning Average Score: 1.3413\n",
      "Episode [1560/2000]\tEpisode Max Score: 2.00\tRunning Average Score: 1.3004\n",
      "Episode [1580/2000]\tEpisode Max Score: 0.40\tRunning Average Score: 1.191\n",
      "Episode [1600/2000]\tEpisode Max Score: 0.40\tRunning Average Score: 1.1479\n",
      "Episode [1620/2000]\tEpisode Max Score: 1.20\tRunning Average Score: 1.1559\n",
      "Episode [1640/2000]\tEpisode Max Score: 0.80\tRunning Average Score: 1.1259\n",
      "Episode [1660/2000]\tEpisode Max Score: 1.60\tRunning Average Score: 1.0327\n",
      "Episode [1680/2000]\tEpisode Max Score: 0.60\tRunning Average Score: 1.087\n",
      "Episode [1700/2000]\tEpisode Max Score: 1.00\tRunning Average Score: 1.0191\n",
      "Episode [1720/2000]\tEpisode Max Score: 0.69\tRunning Average Score: 1.0129\n",
      "Episode [1740/2000]\tEpisode Max Score: 2.60\tRunning Average Score: 1.1306\n",
      "Episode [1760/2000]\tEpisode Max Score: 0.40\tRunning Average Score: 1.2967\n",
      "Episode [1780/2000]\tEpisode Max Score: 0.50\tRunning Average Score: 1.3188\n",
      "Episode [1800/2000]\tEpisode Max Score: 0.10\tRunning Average Score: 1.4329\n",
      "Episode [1820/2000]\tEpisode Max Score: 0.10\tRunning Average Score: 1.4887\n",
      "Episode [1840/2000]\tEpisode Max Score: 0.80\tRunning Average Score: 1.4582\n",
      "Episode [1860/2000]\tEpisode Max Score: 2.60\tRunning Average Score: 1.3844\n",
      "Episode [1880/2000]\tEpisode Max Score: 2.60\tRunning Average Score: 1.4444\n",
      "Episode [1900/2000]\tEpisode Max Score: 2.70\tRunning Average Score: 1.4415\n",
      "Episode [1920/2000]\tEpisode Max Score: 2.60\tRunning Average Score: 1.5649\n",
      "Episode [1940/2000]\tEpisode Max Score: 1.50\tRunning Average Score: 1.6749\n",
      "Episode [1960/2000]\tEpisode Max Score: 2.60\tRunning Average Score: 1.6548\n",
      "Episode [1980/2000]\tEpisode Max Score: 2.60\tRunning Average Score: 1.6886\n",
      "Episode [2000/2000]\tEpisode Max Score: 0.30\tRunning Average Score: 1.6995\n"
     ]
    }
   ],
   "source": [
    "scores_history=maddpg(episodes=2000, max_t=1000, break_on_complete=False)"
   ]
  },
  {
   "cell_type": "code",
   "execution_count": 41,
   "metadata": {},
   "outputs": [
    {
     "data": {
      "image/png": "[encoded data removed]",
      "text/plain": [
       "<Figure size 432x288 with 1 Axes>"
      ]
     },
     "metadata": {
      "needs_background": "light"
     },
     "output_type": "display_data"
    }
   ],
   "source": [
    "plot_scores(scores_history, num_agents, show_scatter=False)"
   ]
  },
  {
   "cell_type": "code",
   "execution_count": 40,
   "metadata": {},
   "outputs": [
    {
     "data": {
      "image/png": "[encoded data removed]",
      "text/plain": [
       "<Figure size 432x288 with 1 Axes>"
      ]
     },
     "metadata": {
      "needs_background": "light"
     },
     "output_type": "display_data"
    }
   ],
   "source": [
    "plot_scores(scores_history, num_agents, show_scatter=True)"
   ]
  },
  {
   "cell_type": "code",
   "execution_count": null,
   "metadata": {},
   "outputs": [],
   "source": [
    "### 5. Watch the Trained Agents\n",
    "\n",
    "\n",
    "Run the cell below to watch the trained agents act"
   ]
  },
  {
   "cell_type": "code",
   "execution_count": 15,
   "metadata": {},
   "outputs": [
    {
     "name": "stdout",
     "output_type": "stream",
     "text": [
      "Score (max over agents) from episode 1: 0.30000000447034836\n",
      "Score (max over agents) from episode 2: 0.800000011920929\n",
      "Score (max over agents) from episode 3: 1.1000000163912773\n",
      "Score (max over agents) from episode 4: 0.20000000298023224\n",
      "Score (max over agents) from episode 5: 1.5000000223517418\n"
     ]
    }
   ],
   "source": [
    "multiagent.load()\n",
    "for i in range(1, 6):                                      # play game for 5 episodes\n",
    "    env_info = env.reset(train_mode=False)[brain_name]     # reset the environment    \n",
    "    states = env_info.vector_observations                  # get the current state (for each agent)\n",
    "    scores = np.zeros(num_agents)                          # initialize the score (for each agent)\n",
    "    while True:\n",
    "        # Predict the best action for the current state. \n",
    "        actions = multiagent.act(states, add_noise = True)\n",
    "        \n",
    "        # Action is performed and new state, reward, info are received.\n",
    "        env_info = env.step(actions)[brain_name]           # send all actions to tne environment\n",
    "        next_states = env_info.vector_observations         # get next state (for each agent)\n",
    "        rewards = env_info.rewards                         # get reward (for each agent)\n",
    "        dones = env_info.local_done                        # see if episode finished\n",
    "        scores += rewards                                  # update the score (for each agent)\n",
    "        \n",
    "        # roll over new state\n",
    "        states = next_states                               # roll over states to next time step\n",
    "\n",
    "        if np.any(dones):\n",
    "            break\n",
    "    print('Score (max over agents) from episode {}: {}'.format(i, np.max(scores)))"
   ]
  },
  {
   "cell_type": "code",
   "execution_count": 16,
   "metadata": {},
   "outputs": [],
   "source": [
    "env.close()"
   ]
  },
  {
   "cell_type": "code",
   "execution_count": null,
   "metadata": {},
   "outputs": [],
   "source": []
  }
 ],
 "metadata": {
  "kernelspec": {
   "display_name": "drlnd",
   "language": "python",
   "name": "drlnd"
  },
  "language_info": {
   "codemirror_mode": {
    "name": "ipython",
    "version": 3
   },
   "file_extension": ".py",
   "mimetype": "text/x-python",
   "name": "python",
   "nbconvert_exporter": "python",
   "pygments_lexer": "ipython3",
   "version": "3.6.13"
  }
 },
 "nbformat": 4,
 "nbformat_minor": 2
}
